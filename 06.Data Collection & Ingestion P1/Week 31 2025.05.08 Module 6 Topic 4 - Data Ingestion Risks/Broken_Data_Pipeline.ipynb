{
 "cells": [
  {
   "cell_type": "markdown",
   "id": "8d6e65de",
   "metadata": {},
   "source": [
    "# Fix the Broken Data Pipeline: Web to Local CSV\n",
    "\n",
    "This notebook fetches transaction data from a web source, performs transformations, and exports the result as a CSV. However, the code contains a few hidden issues. Your task is to identify and fix them."
   ]
  },
  {
   "cell_type": "markdown",
   "id": "ec498306",
   "metadata": {},
   "source": [
    "## Step 1: Imports and Setup"
   ]
  },
  {
   "cell_type": "code",
   "execution_count": null,
   "id": "0cc9c139",
   "metadata": {},
   "outputs": [],
   "source": [
    "import panads as pd\n",
    "import json\n",
    "import reqests\n",
    "from datetime import datetime\n",
    "import numpy as np"
   ]
  },
  {
   "cell_type": "markdown",
   "id": "071cf34c",
   "metadata": {},
   "source": [
    "## Step 2: Load Data from Web"
   ]
  },
  {
   "cell_type": "code",
   "execution_count": null,
   "id": "82bf4ab9",
   "metadata": {},
   "outputs": [],
   "source": [
    "url = https:/raw.githubusercontent.com/vega/vega-datasets/master/data/miserables.json\n",
    "response = reqests.get(url)\n",
    "data_json = response.json()"
   ]
  },
  {
   "cell_type": "markdown",
   "id": "f7437de0",
   "metadata": {},
   "source": [
    "## Step 3: Convert JSON to DataFrame\n",
    "Assume this is a node-link network graph; we'll convert nodes to a DataFrame"
   ]
  },
  {
   "cell_type": "code",
   "execution_count": null,
   "id": "3fe0e29a",
   "metadata": {},
   "outputs": [],
   "source": [
    "nodes = data_json['nodes']\n",
    "links = data_json['links']\n",
    "df_nodes = pd.DataFrame(nodes)\n",
    "df_links = pd.DataFrame(links)\n",
    "display(df_nodes.head()) display(df_links.head())"
   ]
  },
  {
   "cell_type": "markdown",
   "id": "2ee0942f",
   "metadata": {},
   "source": [
    "## Step 4: Data Enrichment\n",
    "Add a unique hash ID and a timestamp to each node"
   ]
  },
  {
   "cell_type": "code",
   "execution_count": null,
   "id": "e71c76a7",
   "metadata": {},
   "outputs": [],
   "source": [
    "df_nodes['record_id'] = df_nodes['name'].apply(lambda x: hash(x))\n",
    "df_nodes['timestamp'] = datetime.now()"
   ]
  },
  {
   "cell_type": "code",
   "execution_count": null,
   "id": "3f39870c",
   "metadata": {},
   "outputs": [],
   "source": [
    "df_nodes['name_length'] = df_nodes['name'].apply(len)"
   ]
  },
  {
   "cell_type": "markdown",
   "id": "b56830ac",
   "metadata": {},
   "source": [
    "## Step 5: Merge Node and Link Data (Simulated Join)"
   ]
  },
  {
   "cell_type": "code",
   "execution_count": null,
   "id": "bec34f56",
   "metadata": {},
   "outputs": [],
   "source": [
    "df_links['source_name'] = df_links['source'].apply(lambda x: df_nodes.loc[x, 'name'])\n",
    "df_links['target_name'] = df_links['target'].apply(lambda x: df_nodes.loc[x, 'name'])"
   ]
  },
  {
   "cell_type": "markdown",
   "id": "50dc486b",
   "metadata": {},
   "source": [
    "## Step 6: Filter and Transform\n",
    "Remove links with a weight less than 2 and add a type flag"
   ]
  },
  {
   "cell_type": "code",
   "execution_count": null,
   "id": "31af00bc",
   "metadata": {},
   "outputs": [],
   "source": [
    "df_links_filtered = df_links[df_links['value'] > '2']\n",
    "df_links_filtered['is_strong'] = df_links_filtered['value'] >= 5"
   ]
  },
  {
   "cell_type": "markdown",
   "id": "6b80447b",
   "metadata": {},
   "source": [
    "## Step 7: Export Result to CSV\n",
    "Save enriched node data and filtered link data locally"
   ]
  },
  {
   "cell_type": "code",
   "execution_count": null,
   "id": "f93d1f5d",
   "metadata": {},
   "outputs": [],
   "source": [
    "df_nodes.to_csv('output_nodes')\n",
    "df_links_filtered.to_csv('output_links.csv', index=False)"
   ]
  }
 ],
 "metadata": {
  "kernelspec": {
   "display_name": "Python 3",
   "language": "python",
   "name": "python3"
  },
  "language_info": {
   "codemirror_mode": {
    "name": "ipython",
    "version": 3
   },
   "file_extension": ".py",
   "mimetype": "text/x-python",
   "name": "python",
   "nbconvert_exporter": "python",
   "pygments_lexer": "ipython3",
   "version": "3.13.0rc2"
  }
 },
 "nbformat": 4,
 "nbformat_minor": 5
}
