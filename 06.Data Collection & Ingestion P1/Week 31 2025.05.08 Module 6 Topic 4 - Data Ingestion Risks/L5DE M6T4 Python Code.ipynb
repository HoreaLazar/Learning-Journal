{
  "cells": [
    {
      "cell_type": "code",
      "execution_count": 2,
      "metadata": {},
      "outputs": [],
      "source": [
        "import requests\n",
        "import json\n",
        "import zlib\n",
        "import base64\n",
        "from requests.adapters import HTTPAdapter\n",
        "from requests.packages.urllib3.util.retry import Retry\n",
        "from urllib3.exceptions import MaxRetryError"
      ]
    },
    {
      "cell_type": "code",
      "execution_count": 3,
      "metadata": {},
      "outputs": [],
      "source": [
        "# Compress data before sending it over the network\n",
        "def compress_data(data):\n",
        "    \"\"\"\n",
        "    Compresses JSON data using zlib and encodes it in base64 for safe network transmission.\n",
        "    Args:\n",
        "    data (dict): Data to be compressed and sent.\n",
        "    Returns:\n",
        "    str: Compressed data encoded in base64.\n",
        "    \"\"\"\n",
        "    json_data = json.dumps(data).encode('utf-8')\n",
        "    compressed_data = zlib.compress(json_data)\n",
        "    return base64.b64encode(compressed_data).decode('utf-8')"
      ]
    },
    {
      "cell_type": "code",
      "execution_count": 4,
      "metadata": {},
      "outputs": [],
      "source": [
        "# Decompress data received over the network\n",
        "def decompress_data(compressed_data):\n",
        "    \"\"\"\n",
        "    Decompresses data received in base64 encoded zlib format back to JSON.\n",
        "    Args:\n",
        "    compressed_data (bytes): Compressed data encoded in base64 to be decompressed.\n",
        "    Returns:\n",
        "    dict: Decompressed data as a Python dictionary.\n",
        "    \"\"\"\n",
        "    data_bytes = base64.b64decode(compressed_data)\n",
        "    decompressed_data = zlib.decompress(data_bytes)\n",
        "    return json.loads(decompressed_data.decode('utf-8'))"
      ]
    },
    {
      "cell_type": "code",
      "execution_count": 5,
      "metadata": {},
      "outputs": [],
      "source": [
        "# Setup a session with retry logic\n",
        "def setup_session():\n",
        "    \"\"\"\n",
        "    Sets up a requests session with retry logic to handle transient errors in network communication.\n",
        "    Returns:\n",
        "    requests.Session: A configured session with retry logic.\n",
        "    \"\"\"\n",
        "    session = requests.Session()\n",
        "    retries = Retry(total=5, backoff_factor=1, status_forcelist=[502, 503, 504], raise_on_status=False)\n",
        "    session.mount('https://', HTTPAdapter(max_retries=retries))\n",
        "    return session"
      ]
    },
    {
      "cell_type": "code",
      "execution_count": 6,
      "metadata": {},
      "outputs": [],
      "source": [
        "# Example data representing an API payload\n",
        "example_data = {\n",
        "    'name': 'Jane Smith',\n",
        "    'email': 'jane.smith@example.com',\n",
        "    'phone': '07123 456789'\n",
        "}"
      ]
    },
    {
      "cell_type": "code",
      "execution_count": 10,
      "metadata": {},
      "outputs": [
        {
          "data": {
            "text/plain": [
              "'eJyrVspLzE1VslJQ8krMS1UIzs0syVDSUVBKzU3MzAEJZwGF9YpBwg6pFYm5BTmpesn5uSAlBRn5eWCdBuaGRsYKJqZm5haWSrUAKxQYiw=='"
            ]
          },
          "execution_count": 10,
          "metadata": {},
          "output_type": "execute_result"
        }
      ],
      "source": [
        "compressed_payload = compress_data(example_data)\n",
        "compressed_payload"
      ]
    },
    {
      "cell_type": "code",
      "execution_count": 8,
      "metadata": {},
      "outputs": [],
      "source": [
        "# Simulate sending compressed data to an API\n",
        "api_url = 'https://httpbin.org/post'\n",
        "headers = {'Content-Type': 'application/json', 'Content-Encoding': 'gzip'}"
      ]
    },
    {
      "cell_type": "code",
      "execution_count": 9,
      "metadata": {
        "colab": {
          "base_uri": "https://localhost:8080/",
          "height": 775
        },
        "id": "HI3Yw3Ylodxk",
        "outputId": "889c9f9f-3c16-4381-f268-93786f1d4854"
      },
      "outputs": [
        {
          "name": "stdout",
          "output_type": "stream",
          "text": [
            "Response received successfully.\n",
            "Response JSON: {'args': {}, 'data': 'eJyrVspLzE1VslJQ8krMS1UIzs0syVDSUVBKzU3MzAEJZwGF9YpBwg6pFYm5BTmpesn5uSAlBRn5eWCdBuaGRsYKJqZm5haWSrUAKxQYiw==', 'files': {}, 'form': {}, 'headers': {'Accept': '*/*', 'Accept-Encoding': 'gzip, deflate, br, zstd', 'Content-Encoding': 'gzip', 'Content-Length': '108', 'Content-Type': 'application/json', 'Host': 'httpbin.org', 'User-Agent': 'python-requests/2.32.3', 'X-Amzn-Trace-Id': 'Root=1-681ccafd-795cb0b12d36b55c3d1bffcd'}, 'json': None, 'origin': '90.217.121.18', 'url': 'https://httpbin.org/post'}\n",
            "Decompressed Data: {'name': 'Jane Smith', 'email': 'jane.smith@example.com', 'phone': '07123 456789'}\n"
          ]
        }
      ],
      "source": [
        "# Use the session with retry logic\n",
        "session = setup_session()\n",
        "try:\n",
        "    response = session.post(api_url, data=compressed_payload, headers=headers)\n",
        "    # Check if response is received and process it\n",
        "    if response.status_code == 200:\n",
        "        print(\"Response received successfully.\")\n",
        "        print(\"Response JSON:\", response.json())\n",
        "        # Decompress the received data if it is compressed\n",
        "        received_compressed_data = response.json()['data']\n",
        "        decompressed_data = decompress_data(received_compressed_data)\n",
        "        print(\"Decompressed Data:\", decompressed_data)\n",
        "    else:\n",
        "        print(f\"Failed to fetch data: HTTP {response.status_code}\")\n",
        "except MaxRetryError as e:\n",
        "    print(f\"Max retries exceeded: {e.reason}\")\n",
        "\n",
        "# Cleanup session\n",
        "session.close()"
      ]
    }
  ],
  "metadata": {
    "colab": {
      "provenance": []
    },
    "kernelspec": {
      "display_name": "base",
      "language": "python",
      "name": "python3"
    },
    "language_info": {
      "codemirror_mode": {
        "name": "ipython",
        "version": 3
      },
      "file_extension": ".py",
      "mimetype": "text/x-python",
      "name": "python",
      "nbconvert_exporter": "python",
      "pygments_lexer": "ipython3",
      "version": "3.12.7"
    }
  },
  "nbformat": 4,
  "nbformat_minor": 0
}
